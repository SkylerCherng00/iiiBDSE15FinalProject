{
 "cells": [
  {
   "cell_type": "markdown",
   "metadata": {},
   "source": [
    "# Koalas\n",
    "ref: https://github.com/databricks/koalas"
   ]
  },
  {
   "cell_type": "code",
   "execution_count": null,
   "metadata": {},
   "outputs": [],
   "source": [
    "from pyspark.sql import SparkSession\n",
    "import pyspark.sql.functions as fn\n",
    "import pandas as pd\n",
    "import numpy as np\n",
    "import databricks.koalas as ks"
   ]
  },
  {
   "cell_type": "code",
   "execution_count": null,
   "metadata": {},
   "outputs": [],
   "source": [
    "# have to append export PYARROW_IGNORE_TIMEZONE = '1' in .bashrc"
   ]
  },
  {
   "cell_type": "markdown",
   "metadata": {},
   "source": [
    "# lightweight to create spark session\n",
    "ref: https://koalas.readthedocs.io/en/latest/getting_started/10min.html  =>  Spark Configurations"
   ]
  },
  {
   "cell_type": "code",
   "execution_count": null,
   "metadata": {},
   "outputs": [],
   "source": [
    "# yarn mode\n",
    "# spark.sql.execution.arrow.pyspark.enabled = true\n",
    "# enable Arrow optimization to hugely speed up internal pandas conversion\n",
    "spark = SparkSession \\\n",
    "        .builder \\\n",
    "        .master(\"yarn\") \\\n",
    "        .config('spark.executor.instances','1') \\\n",
    "        .config('spark.executor.memory','1G') \\\n",
    "        .config('spark.executor.cores','1') \\\n",
    "        .config('spark.sql.execution.arrow.pyspark.enabled', 'true') \\\n",
    "        .appName(\"yarndemo\") \\\n",
    "        .getOrCreate()"
   ]
  },
  {
   "cell_type": "code",
   "execution_count": null,
   "metadata": {},
   "outputs": [],
   "source": [
    "# standalone mode\n",
    "spark = SparkSession \\\n",
    "        .builder \\\n",
    "        .master(\"spark://master.example.org:7077\") \\\n",
    "        .config('spark.sql.execution.arrow.pyspark.enabled', 'true') \\\n",
    "        .appName(\"standalonedemo\") \\\n",
    "        .getOrCreate()"
   ]
  },
  {
   "cell_type": "code",
   "execution_count": null,
   "metadata": {},
   "outputs": [],
   "source": [
    "# local mode\n",
    "spark = SparkSession \\\n",
    "        .builder \\\n",
    "        .config('spark.sql.execution.arrow.pyspark.enabled', 'true') \\\n",
    "        .appName(\"localmode\") \\\n",
    "        .getOrCreate()"
   ]
  },
  {
   "cell_type": "code",
   "execution_count": null,
   "metadata": {},
   "outputs": [],
   "source": [
    "# koalas setting\n",
    "ks.set_option(\"compute.default_index_type\", \"distributed\")"
   ]
  },
  {
   "cell_type": "code",
   "execution_count": null,
   "metadata": {},
   "outputs": [],
   "source": [
    "# ref: https://stackoverflow.com/questions/30560241/is-it-possible-to-get-the-current-spark-context-settings-in-pyspark\n",
    "spark.sparkContext.getConf().getAll()"
   ]
  },
  {
   "cell_type": "markdown",
   "metadata": {},
   "source": [
    "# 10 minutes to Koalas\n",
    "ref: https://koalas.readthedocs.io/en/latest/getting_started/10min.html<br>\n",
    "### PySpark Usage Guide for Pandas with Apache Arrow\n",
    "ref: https://spark.apache.org/docs/latest/sql-pyspark-pandas-with-arrow.html"
   ]
  },
  {
   "cell_type": "code",
   "execution_count": null,
   "metadata": {},
   "outputs": [],
   "source": [
    "s = ks.Series([1, 3, 5, np.nan, 6, 8])\n",
    "s"
   ]
  },
  {
   "cell_type": "code",
   "execution_count": null,
   "metadata": {},
   "outputs": [],
   "source": [
    "kdf = ks.DataFrame(\n",
    "    {'a': [1, 2, 3, 4, 5, 6],\n",
    "     'b': [100, 200, 300, 400, 500, 600],\n",
    "     'c': [\"one\", \"two\", \"three\", \"four\", \"five\", \"six\"]},\n",
    "    index=[10, 20, 30, 40, 50, 60])\n",
    "kdf"
   ]
  }
 ],
 "metadata": {
  "kernelspec": {
   "display_name": "Python 3",
   "language": "python",
   "name": "python3"
  },
  "language_info": {
   "codemirror_mode": {
    "name": "ipython",
    "version": 3
   },
   "file_extension": ".py",
   "mimetype": "text/x-python",
   "name": "python",
   "nbconvert_exporter": "python",
   "pygments_lexer": "ipython3",
   "version": "3.8.5"
  }
 },
 "nbformat": 4,
 "nbformat_minor": 4
}