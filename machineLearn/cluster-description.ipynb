{
 "cells": [
  {
   "cell_type": "code",
   "execution_count": null,
   "metadata": {},
   "outputs": [],
   "source": [
    "import numpy as np\n",
    "import pandas as pd\n",
    "pd.options.display.max_columns = None"
   ]
  },
  {
   "cell_type": "code",
   "execution_count": null,
   "metadata": {},
   "outputs": [],
   "source": [
    "file = 'new-2017-2019cluster'\n",
    "df = pd.read_csv('/Shared/taxi/{}.csv'.format(file),usecols=['Time', 'Week',\n",
    "             'Trip_Miles','Trip_Seconds','mph','Pickup_Community_Area','Dropoff_Community_Area',\n",
    "            'Tips', 'Trip_Total','pickup_id', 'Cluster_id'])\n",
    "#usecols=['foo', 'bar']"
   ]
  },
  {
   "cell_type": "code",
   "execution_count": null,
   "metadata": {},
   "outputs": [],
   "source": [
    "profit = df1.eval('(Trip_Total-(Trip_Miles*0.1255))/Trip_Miles')\n",
    "df1['Profits']=profit"
   ]
  },
  {
   "cell_type": "code",
   "execution_count": null,
   "metadata": {},
   "outputs": [],
   "source": [
    "# 是否給小費和額外費用\n",
    "df1['Tips_yn']=(df1['Tips']/df1['Tips']).replace(np.nan,0)"
   ]
  },
  {
   "cell_type": "code",
   "execution_count": null,
   "metadata": {},
   "outputs": [],
   "source": [
    "# 是否塞車(車速<10mph)\n",
    "a_ = df1[df1['mph']<10]\n",
    "a_['traffic_yn']=1\n",
    "b_ = df1[df1['mph']>=10]\n",
    "b_['traffic_yn']=0\n",
    "df2=a_.append(b_)"
   ]
  },
  {
   "cell_type": "code",
   "execution_count": null,
   "metadata": {},
   "outputs": [],
   "source": [
    "# 是否塞車(車速<10mph)\n",
    "a_ = df1[df1['mph']<10]\n",
    "a_['traffic_yn']=1\n",
    "b_ = df1[df1['mph']>=10]\n",
    "b_['traffic_yn']=0\n",
    "df2=a_.append(b_)"
   ]
  },
  {
   "cell_type": "code",
   "execution_count": null,
   "metadata": {},
   "outputs": [],
   "source": [
    "# 是否載出芝加哥\n",
    "e_ = df3[df3['Dropoff_Community_Area']<0]\n",
    "e_['outside_yn']=1\n",
    "f_ = df3[df3['Dropoff_Community_Area']>=0]\n",
    "f_['outside_yn']=0\n",
    "df=e_.append(f_)"
   ]
  },
  {
   "cell_type": "markdown",
   "metadata": {},
   "source": [
    "# GROUP"
   ]
  },
  {
   "cell_type": "code",
   "execution_count": null,
   "metadata": {},
   "outputs": [],
   "source": [
    "group = df.groupby([\"Cluster_id\",\"Week\",\"Time\"])"
   ]
  },
  {
   "cell_type": "code",
   "execution_count": null,
   "metadata": {},
   "outputs": [],
   "source": [
    "#med\n",
    "med = group['Trip_Total','Trip_Miles','Trip_Seconds','Profits','mph'].median()\n",
    "# 機率\n",
    "mean = group['Tips_yn','long_yn','traffic_yn','outside_yn'].mean()\n",
    "# 眾數\n",
    "mode = group['Pickup_Community_Area']\n",
    "y = mode.agg(lambda x: np.mean(x.mode()))\n",
    "mode = group['Dropoff_Community_Area']\n",
    "z = mode.agg(lambda x: np.mean(x.mode()))\n",
    "# 載客機率\n",
    "count = (group['Tips'].count()/156)\n",
    "pickup_count = count.rename('pickup_count')\n",
    "#pickup_p = (count/mean['picup_allCluster'])\n",
    "#z = pickup_p.rename('pickup_p')"
   ]
  },
  {
   "cell_type": "code",
   "execution_count": null,
   "metadata": {},
   "outputs": [],
   "source": [
    "# merge all dataframe\n",
    "bb = pd.merge(pickup_count,med,left_index=True,right_index=True)\n",
    "#bb = pd.merge(pickup_p,med,left_index=True,right_index=True)\n",
    "dd = pd.merge(bb,mean,left_index=True,right_index=True)\n",
    "cc=pd.merge(dd,y,left_index=True,right_index=True)\n",
    "result=pd.merge(cc,z,left_index=True,right_index=True)\n",
    "#dff1 = pd.merge(dff,z,left_index=True,right_index=True)\n",
    "#dff1=dff.drop(['picup_allCluster_y'], axis=1)\n",
    "#result=dff1.rename(columns={\"picup_allCluster_x\": \"pickup_pro\"})"
   ]
  },
  {
   "cell_type": "code",
   "execution_count": null,
   "metadata": {},
   "outputs": [],
   "source": [
    "# save\n",
    "result.to_csv('/Shared/taxi/final_description_2017-2019.csv')"
   ]
  },
  {
   "cell_type": "markdown",
   "metadata": {},
   "source": [
    "# LEVEL"
   ]
  },
  {
   "cell_type": "code",
   "execution_count": null,
   "metadata": {},
   "outputs": [],
   "source": [
    "#df = pd.read_csv('/Shared/taxi/final_description_2017-2019.csv')"
   ]
  },
  {
   "cell_type": "code",
   "execution_count": null,
   "metadata": {},
   "outputs": [],
   "source": [
    "df = result.unsteak()"
   ]
  },
  {
   "cell_type": "code",
   "execution_count": null,
   "metadata": {},
   "outputs": [],
   "source": [
    "# LABEL Trip_Total LEVEL\n",
    "def level(x):\n",
    "    if x <= 7.75:\n",
    "        return 'Low'\n",
    "    elif x > 7.75 and x <= 17.25:\n",
    "        return 'Medium'\n",
    "    else:\n",
    "        return 'High'\n",
    "df['Trip_Total_level']=df['Trip_Total'].apply(lambda x:level(x))"
   ]
  },
  {
   "cell_type": "code",
   "execution_count": null,
   "metadata": {},
   "outputs": [],
   "source": [
    "# LABEL Profits LEVEL\n",
    "def level(x):\n",
    "    if x <= 3.89:\n",
    "        return 'Low'\n",
    "    elif x > 3.89 and x <= 8.62:\n",
    "        return 'Medium'\n",
    "    else:\n",
    "        return 'High'\n",
    "df['Profits_level']=df['Profits'].apply(lambda x:level(x))"
   ]
  },
  {
   "cell_type": "code",
   "execution_count": null,
   "metadata": {},
   "outputs": [],
   "source": [
    "# LABEL Trips LEVEL\n",
    "# def level(x):\n",
    "#     if x <= 0.038:\n",
    "#         return 'Low'\n",
    "#     elif x > 0.038 and x <= 0.378:\n",
    "#         return 'Medium'\n",
    "#     else:\n",
    "#         return 'High'\n",
    "# df['Tips_yn_level']=df['Tips_yn'].apply(lambda x:level(x))"
   ]
  },
  {
   "cell_type": "code",
   "execution_count": null,
   "metadata": {},
   "outputs": [],
   "source": [
    "# Turn into %\n",
    "df[['Tips_yn','long_yn','traffic_yn','outside_yn']]=df[['Tips_yn','long_yn','traffic_yn','outside_yn']]*100"
   ]
  },
  {
   "cell_type": "code",
   "execution_count": null,
   "metadata": {},
   "outputs": [],
   "source": [
    "# save\n",
    "df.to_csv('/Shared/taxi/description17-19_0114.csv')"
   ]
  }
 ],
 "metadata": {
  "kernelspec": {
   "display_name": "Python 3",
   "language": "python",
   "name": "python3"
  },
  "language_info": {
   "codemirror_mode": {
    "name": "ipython",
    "version": 3
   },
   "file_extension": ".py",
   "mimetype": "text/x-python",
   "name": "python",
   "nbconvert_exporter": "python",
   "pygments_lexer": "ipython3",
   "version": "3.8.3"
  }
 },
 "nbformat": 4,
 "nbformat_minor": 4
}
