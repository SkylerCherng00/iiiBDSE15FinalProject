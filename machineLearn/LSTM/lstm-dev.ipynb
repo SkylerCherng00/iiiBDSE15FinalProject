{
 "cells": [
  {
   "cell_type": "code",
   "execution_count": 1,
   "metadata": {},
   "outputs": [],
   "source": [
    "import seaborn as sns\n",
    "import numpy as np\n",
    "import pandas as pd\n",
    "from datetime import datetime\n",
    "import matplotlib.pyplot as plt\n",
    "\n",
    "from sklearn.preprocessing import RobustScaler, StandardScaler\n",
    "\n",
    "from tensorflow import keras\n",
    "\n",
    "# call preprocessing.py寫好的檔案執行資料前處理\n",
    "from preprocessing import data_prepare\n",
    "from preprocessing import time_window_strided_sampling"
   ]
  },
  {
   "cell_type": "code",
   "execution_count": 7,
   "metadata": {},
   "outputs": [
    {
     "name": "stdout",
     "output_type": "stream",
     "text": [
      "INFO: TRAIN/TEST shape BEFORE scaling: (17518, 12) (8759, 12)\n",
      "INFO: shape of scaled TRAIN_X and TEST_X: (17518, 11) (8759, 11)\n",
      "INFO: shape of TRAIN_Y and TEST_Y: (17518,) (8759,)\n"
     ]
    }
   ],
   "source": [
    "file_path='2017-2019holiday.csv'\n",
    "index_col='Trip_Start_Timestamp'\n",
    "verbose = True\n",
    "TIME_STEPS = 1 # 跑出來比較好的參數\n",
    "cls_id_selected = 4 # 選擇其中一個cluster做預測\n",
    "yr_crit = 2019 # # 設定2019前的資料作train data，2019做test data\n",
    "\n",
    "# Load data\n",
    "df = pd.read_csv(file_path,index_col=index_col)\n",
    "df.index = pd.to_datetime(df.index)\n",
    "df = df.sort_index()\n",
    "\n",
    "# Preprocess data\n",
    "train_x, train_y, test_x, test_y = data_prepare(df, cls_id_selected=cls_id_selected, yr_crit=yr_crit)\n",
    "\n",
    "# Sliding window time series sampling\n",
    "X_train, y_train = time_window_strided_sampling(train_x, train_y, time_steps=TIME_STEPS)\n",
    "X_test, y_test = time_window_strided_sampling(test_x, test_y, time_steps=TIME_STEPS)"
   ]
  },
  {
   "cell_type": "code",
   "execution_count": 20,
   "metadata": {},
   "outputs": [
    {
     "name": "stdout",
     "output_type": "stream",
     "text": [
      "Model: \"sequential_10\"\n",
      "_________________________________________________________________\n",
      "Layer (type)                 Output Shape              Param #   \n",
      "=================================================================\n",
      "bidirectional_14 (Bidirectio (17470, 48, 256)          143360    \n",
      "_________________________________________________________________\n",
      "bidirectional_15 (Bidirectio (17470, 256)              394240    \n",
      "_________________________________________________________________\n",
      "dense_16 (Dense)             (17470, 32)               8224      \n",
      "_________________________________________________________________\n",
      "dense_17 (Dense)             (17470, 1)                33        \n",
      "=================================================================\n",
      "Total params: 545,857\n",
      "Trainable params: 545,857\n",
      "Non-trainable params: 0\n",
      "_________________________________________________________________\n"
     ]
    }
   ],
   "source": [
    "lr = 1.E-2\n",
    "num_epochs = 30 # set 40 epochs 跑效果比較好\n",
    "batch_size = 32\n",
    "lstm_unit_size = 128\n",
    "\n",
    "in_shape = (X_train.shape[1:3])\n",
    "# Model construction set 2 layers\n",
    "layers = [\n",
    "    keras.layers.Bidirectional(keras.layers.LSTM(unit_forget_bias=True,\n",
    "                                                 units=lstm_unit_size,\n",
    "                                                 input_shape=in_shape,\n",
    "                                                 return_sequences=True)),\n",
    "    keras.layers.Bidirectional(keras.layers.LSTM(unit_forget_bias=True,\n",
    "                                                 units=lstm_unit_size,\n",
    "                                                 return_sequences=False)),\n",
    "    keras.layers.Dense(units=32, activation=\"relu\"),\n",
    "    keras.layers.Dense(units=1),\n",
    "]\n",
    "\n",
    "model = keras.Sequential()\n",
    "\n",
    "for layer in layers:\n",
    "    model.add(layer)\n",
    "\n",
    "model.compile(loss='mean_squared_error', optimizer=keras.optimizers.Adam(lr=lr))\n",
    "\n",
    "model.build(X_train.shape[0:3])\n",
    "model.summary()"
   ]
  },
  {
   "cell_type": "code",
   "execution_count": 21,
   "metadata": {},
   "outputs": [
    {
     "name": "stdout",
     "output_type": "stream",
     "text": [
      "Epoch 1/30\n",
      "546/546 [==============================] - 52s 82ms/step - loss: 2898.0623 - val_loss: 1533.0574\n",
      "Epoch 2/30\n",
      "546/546 [==============================] - 44s 80ms/step - loss: 2249.1017 - val_loss: 1528.7343\n",
      "Epoch 3/30\n",
      "546/546 [==============================] - 44s 80ms/step - loss: 2073.6736 - val_loss: 1535.5790\n",
      "Epoch 4/30\n",
      "546/546 [==============================] - 43s 80ms/step - loss: 1878.1596 - val_loss: 1289.1179\n",
      "Epoch 5/30\n",
      "546/546 [==============================] - 44s 80ms/step - loss: 1840.7166 - val_loss: 1567.1471\n",
      "Epoch 6/30\n",
      "546/546 [==============================] - 44s 81ms/step - loss: 1860.2898 - val_loss: 1345.4543\n",
      "Epoch 7/30\n",
      "546/546 [==============================] - 44s 80ms/step - loss: 1595.6855 - val_loss: 1241.1329\n",
      "Epoch 8/30\n",
      "546/546 [==============================] - 44s 81ms/step - loss: 1598.2834 - val_loss: 1261.8198\n",
      "Epoch 9/30\n",
      "546/546 [==============================] - 44s 81ms/step - loss: 1540.3089 - val_loss: 1291.6805\n",
      "Epoch 10/30\n",
      "546/546 [==============================] - 45s 82ms/step - loss: 1694.0561 - val_loss: 1236.1752\n",
      "Epoch 11/30\n",
      "546/546 [==============================] - 46s 85ms/step - loss: 1493.8053 - val_loss: 1310.2655\n",
      "Epoch 12/30\n",
      "546/546 [==============================] - 43s 78ms/step - loss: 1594.2341 - val_loss: 1326.1907\n",
      "Epoch 13/30\n",
      "546/546 [==============================] - 43s 79ms/step - loss: 1497.9062 - val_loss: 1406.0176\n",
      "Epoch 14/30\n",
      "546/546 [==============================] - 42s 77ms/step - loss: 1402.7115 - val_loss: 1201.7461\n",
      "Epoch 15/30\n",
      "546/546 [==============================] - 43s 79ms/step - loss: 1674.3144 - val_loss: 1253.5946\n",
      "Epoch 16/30\n",
      "546/546 [==============================] - 45s 82ms/step - loss: 1515.0857 - val_loss: 1190.0396\n",
      "Epoch 17/30\n",
      "546/546 [==============================] - 44s 81ms/step - loss: 1349.9216 - val_loss: 1303.6323\n",
      "Epoch 18/30\n",
      "546/546 [==============================] - 44s 80ms/step - loss: 1488.8514 - val_loss: 1420.7349\n",
      "Epoch 19/30\n",
      "546/546 [==============================] - 45s 82ms/step - loss: 1927.6000 - val_loss: 1374.3510\n",
      "Epoch 20/30\n",
      "546/546 [==============================] - 45s 82ms/step - loss: 1758.5403 - val_loss: 1331.3984\n",
      "Epoch 21/30\n",
      "546/546 [==============================] - 45s 82ms/step - loss: 1780.4125 - val_loss: 1346.0183\n",
      "Epoch 22/30\n",
      "546/546 [==============================] - 44s 80ms/step - loss: 2022.8006 - val_loss: 1314.2728\n",
      "Epoch 23/30\n",
      "546/546 [==============================] - 44s 81ms/step - loss: 1916.1008 - val_loss: 1376.2041\n",
      "Epoch 24/30\n",
      "546/546 [==============================] - 44s 81ms/step - loss: 1810.5708 - val_loss: 1541.6902\n",
      "Epoch 25/30\n",
      "546/546 [==============================] - 44s 81ms/step - loss: 1816.1356 - val_loss: 1432.6450\n",
      "Epoch 26/30\n",
      "546/546 [==============================] - 44s 80ms/step - loss: 1972.5392 - val_loss: 1404.3289\n",
      "Epoch 27/30\n",
      "546/546 [==============================] - 44s 81ms/step - loss: 1907.6695 - val_loss: 1469.1243\n",
      "Epoch 28/30\n",
      "546/546 [==============================] - 44s 81ms/step - loss: 1888.0904 - val_loss: 1350.4753\n",
      "Epoch 29/30\n",
      "546/546 [==============================] - 44s 81ms/step - loss: 1876.5942 - val_loss: 1303.6830\n",
      "Epoch 30/30\n",
      "546/546 [==============================] - 44s 81ms/step - loss: 1883.1271 - val_loss: 1391.9344\n"
     ]
    }
   ],
   "source": [
    "history = model.fit(\n",
    "    X_train, y_train,\n",
    "    epochs=num_epochs,\n",
    "    batch_size=batch_size,\n",
    "    validation_data=(X_test, y_test),\n",
    "    shuffle=True)"
   ]
  },
  {
   "cell_type": "code",
   "execution_count": 22,
   "metadata": {},
   "outputs": [
    {
     "data": {
      "image/png": "[encoded data removed]",
      "text/plain": [
       "<Figure size 432x288 with 1 Axes>"
      ]
     },
     "metadata": {
      "needs_background": "light"
     },
     "output_type": "display_data"
    }
   ],
   "source": [
    "plt.plot(history.history['loss'],label='train')\n",
    "plt.plot(history.history['val_loss'],label='validation')\n",
    "plt.legend();"
   ]
  },
  {
   "cell_type": "code",
   "execution_count": null,
   "metadata": {},
   "outputs": [],
   "source": [
    "# all data predict plot\n",
    "y_pred = model.predict(X_test)\n",
    "plt.plot(y_test.flatten(),marker='.',label='true')\n",
    "plt.plot(y_pred.flatten(),'r',marker='.',label='predicted')\n",
    "plt.legend();"
   ]
  },
  {
   "cell_type": "code",
   "execution_count": null,
   "metadata": {},
   "outputs": [],
   "source": [
    "# 擷取部分資料繪圖\n",
    "a=y_pred[:721]\n",
    "b=y_test[:721]\n",
    "y_pred = model.predict(X_test)\n",
    "plt.plot(b.flatten(),marker='.',label='true')\n",
    "plt.plot(a.flatten(),'r',marker='.',label='predicted')\n",
    "plt.legend();"
   ]
  }
 ],
 "metadata": {
  "kernelspec": {
   "display_name": "Python 3",
   "language": "python",
   "name": "python3"
  },
  "language_info": {
   "codemirror_mode": {
    "name": "ipython",
    "version": 3
   },
   "file_extension": ".py",
   "mimetype": "text/x-python",
   "name": "python",
   "nbconvert_exporter": "python",
   "pygments_lexer": "ipython3",
   "version": "3.8.6"
  }
 },
 "nbformat": 4,
 "nbformat_minor": 4
}
